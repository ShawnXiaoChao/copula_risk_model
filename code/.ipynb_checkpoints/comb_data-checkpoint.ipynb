{
 "cells": [
  {
   "cell_type": "code",
   "execution_count": 20,
   "metadata": {},
   "outputs": [],
   "source": [
    "import os\n",
    "import pandas as pd"
   ]
  },
  {
   "cell_type": "code",
   "execution_count": 21,
   "metadata": {},
   "outputs": [],
   "source": [
    "data_path = '../data/'\n",
    "\n",
    "begin_date = \"20050101\"\n",
    "end_date = \"20200326\""
   ]
  },
  {
   "cell_type": "code",
   "execution_count": 22,
   "metadata": {
    "scrolled": true
   },
   "outputs": [
    {
     "name": "stdout",
     "output_type": "stream",
     "text": [
      "Globe Life Inc_12_PdChart_AsOf2020-03-26.csv\n",
      "Bridgemarq Real Estate Services_12_PdChart_AsOf2020-03-26.csv\n",
      "Bridge Capital Holdings_12_PdChart_AsOf2015-06-30.csv\n",
      "Zurich Insurance Group AG_12_PdChart_AsOf2020-03-26.csv\n",
      "Maruhachi Securities Co Ltd_12_PdChart_AsOf2020-03-26.csv\n",
      "Guardian Capital Group Ltd_12_PdChart_AsOf2020-03-26.csv\n",
      "Daesung Private Equity Inc_12_PdChart_AsOf2020-03-26.csv\n",
      "NBT Bancorp Inc_12_PdChart_AsOf2020-03-26.csv\n",
      "Malayan Banking Bhd_12_PdChart_AsOf2020-03-26.csv\n",
      "US Bancorp_12_PdChart_AsOf2020-03-26.csv\n",
      "Gecina SA_12_PdChart_AsOf2020-03-26.csv\n",
      "MutualFirst Financial Inc_12_PdChart_AsOf2020-03-26.csv\n",
      "BlackRock Inc_12_PdChart_AsOf2020-03-26.csv\n",
      "1st Source Corp_12_PdChart_AsOf2020-03-26.csv\n",
      "Finbar Group Ltd_12_PdChart_AsOf2020-03-26.csv\n",
      "3i Group PLC_12_PdChart_AsOf2020-03-26.csv\n",
      "Landmark Bancorp Inc_Manhattan KS_12_PdChart_AsOf2020-03-26.csv\n",
      "AG Edwards Inc_12_PdChart_AsOf2007-09-30.csv\n",
      "CVB Financial Corp_12_PdChart_AsOf2020-03-26.csv\n",
      "Hercules Capital Inc_12_PdChart_AsOf2020-03-26.csv\n",
      "Arlington Asset Investment Corp_12_PdChart_AsOf2020-03-26.csv\n",
      "Al-Massaleh Real Estate Co KSC_12_PdChart_AsOf2020-03-26.csv\n",
      "Andhra Bank_12_PdChart_AsOf2020-03-26.csv\n",
      "Alliance Data Systems Corp_12_PdChart_AsOf2020-03-26.csv\n",
      "Alpha Bank AE_12_PdChart_AsOf2020-03-26.csv\n",
      "Akita Bank Ltd_The_12_PdChart_AsOf2020-03-26.csv\n",
      "Aplus Financial Co Ltd_12_PdChart_AsOf2020-03-26.csv\n",
      "Agat Ejendomme A_S_12_PdChart_AsOf2020-03-26.csv\n",
      "AID Life Science Holdings Ltd_12_PdChart_AsOf2020-03-26.csv\n",
      "Asia Orient Holdings Ltd_12_PdChart_AsOf2020-03-26.csv\n",
      "Allahabad Bank_12_PdChart_AsOf2020-03-26.csv\n",
      "AQ Estate PCL_12_PdChart_AsOf2020-03-26.csv\n",
      "Asian Pac Holdings Bhd_12_PdChart_AsOf2020-03-26.csv\n",
      "ALTA SA_12_PdChart_AsOf2020-03-26.csv\n",
      "Akbank T.A.S._12_PdChart_AsOf2020-03-26.csv\n",
      "Anadolu Hayat Emeklilik AS_12_PdChart_AsOf2020-03-26.csv\n",
      "Australia & New Zealand Banking Group Ltd_12_PdChart_AsOf2020-03-26.csv\n",
      "Al Mal Investment Co KSC_12_PdChart_AsOf2020-03-26.csv\n",
      "Ashford Hospitality Trust Inc_12_PdChart_AsOf2020-03-26.csv\n",
      "AMP Ltd_12_PdChart_AsOf2020-03-26.csv\n",
      "AF Global Ltd_12_PdChart_AsOf2020-03-26.csv\n",
      "Aichi Bank Ltd_The_12_PdChart_AsOf2020-03-26.csv\n",
      "Skandinaviska Enskilda Banken AB_12_PdChart_AsOf2020-03-26.csv\n",
      "Ganesh Housing Corp Ltd_12_PdChart_AsOf2020-03-26.csv\n",
      "Land & General Bhd_12_PdChart_AsOf2020-03-26.csv\n",
      "Diversified Healthcare Trust_12_PdChart_AsOf2020-03-26.csv\n",
      "Gazit-Globe Ltd_12_PdChart_AsOf2020-03-26.csv\n",
      "Skjern Bank_12_PdChart_AsOf2020-03-26.csv\n",
      "GAM Holding AG_12_PdChart_AsOf2020-03-26.csv\n",
      "SK Securities Co Ltd_12_PdChart_AsOf2020-03-26.csv\n",
      "AEON Financial Service Co Ltd_12_PdChart_AsOf2020-03-26.csv\n",
      "DNB ASA_12_PdChart_AsOf2020-03-26.csv\n",
      "GEK Terna Holding Real Estate Construction SA_12_PdChart_AsOf2020-03-26.csv\n",
      "Aksigorta AS_12_PdChart_AsOf2020-03-26.csv\n",
      "Gemdale Properties & Investment Corp Ltd_12_PdChart_AsOf2020-03-26.csv\n",
      "Discovery Ltd_12_PdChart_AsOf2020-03-26.csv\n",
      "AEC Securities PCL_12_PdChart_AsOf2020-03-26.csv\n",
      "FirstRand Ltd_12_PdChart_AsOf2020-03-26.csv\n",
      "LAMDA Development SA_12_PdChart_AsOf2020-03-26.csv\n",
      "Aliansce Sonae Shopping Centers sa_12_PdChart_AsOf2020-03-26.csv\n",
      "Public Bank Bhd_12_PdChart_AsOf2020-03-26.csv\n",
      "Goldman Sachs Group Inc_The_12_PdChart_AsOf2020-03-26.csv\n",
      "First Commonwealth Financial Corp_12_PdChart_AsOf2020-03-26.csv\n",
      "Fragrance Group Ltd_12_PdChart_AsOf2020-03-26.csv\n",
      "Berkshire Bancorp Inc_NY_12_PdChart_AsOf2013-11-28.csv\n",
      "Glen Burnie Bancorp_12_PdChart_AsOf2020-03-26.csv\n",
      "BNC Bancorp_12_PdChart_AsOf2017-06-15.csv\n",
      "Asia Development Capital Co Ltd_12_PdChart_AsOf2020-03-26.csv\n",
      "Fonciere Atland_12_PdChart_AsOf2020-03-26.csv\n",
      "Morgan Stanley_12_PdChart_AsOf2020-03-26.csv\n",
      "CRED Holding Co Ltd_12_PdChart_AsOf2020-03-26.csv\n",
      "Panther Securities PLC_12_PdChart_AsOf2020-03-26.csv\n",
      "Prudential Bancorp Inc_12_PdChart_AsOf2020-03-26.csv\n",
      "Benjamin Franklin Bancorp Inc_12_PdChart_AsOf2009-04-12.csv\n",
      "AIA Group Ltd_12_PdChart_AsOf2020-03-26.csv\n",
      "HSBC Holdings PLC_12_PdChart_AsOf2020-03-26.csv\n",
      "Hang Seng Bank Ltd_12_PdChart_AsOf2020-03-26.csv\n",
      "FRACTALE Corp_12_PdChart_AsOf2020-03-26.csv\n",
      "Commonwealth Bank of Australia_12_PdChart_AsOf2020-03-26.csv\n",
      "Hitachi Capital Corp_12_PdChart_AsOf2020-03-26.csv\n",
      "Ecsponent Ltd_12_PdChart_AsOf2020-03-26.csv\n",
      "Beijing Homyear Capital Holdings Co Ltd_12_PdChart_AsOf2020-02-05.csv\n",
      "Alliance Finance Co PLC_12_PdChart_AsOf2020-03-26.csv\n",
      "Askari Bank Ltd_12_PdChart_AsOf2020-03-26.csv\n",
      "Jahangir Siddiqui & Co Ltd_12_PdChart_AsOf2020-03-26.csv\n",
      "Harbin Gong Da High-Tech Enterprise Development Co Ltd_12_PdChart_AsOf2020-03-26.csv\n",
      "Aureum Realwert AG_12_PdChart_AsOf2020-01-01.csv\n",
      "Jilin Cheng Cheng Group Co Ltd_12_PdChart_AsOf2020-03-26.csv\n",
      "UACN Property Development Co PLC_12_PdChart_AsOf2020-03-26.csv\n",
      "Metro Land Corp Ltd_12_PdChart_AsOf2020-03-26.csv\n",
      "Intu Properties PLC_12_PdChart_AsOf2020-03-26.csv\n",
      "CBL & Associates Properties Inc_12_PdChart_AsOf2020-03-26.csv\n",
      "Beh-Property Co Ltd_12_PdChart_AsOf2020-03-26.csv\n",
      "Tianjin Songjiang Co Ltd_12_PdChart_AsOf2020-03-26.csv\n",
      "Beijing Zodi Investment Co Ltd_12_PdChart_AsOf2020-03-26.csv\n",
      "Ecobank Transnational Inc_12_PdChart_AsOf2020-03-26.csv\n",
      "Resimac Group Ltd_12_PdChart_AsOf2020-03-26.csv\n",
      "FlexiGroup Ltd_Australia_12_PdChart_AsOf2020-03-26.csv\n",
      "DongfengSci-Tech Group Co Ltd_12_PdChart_AsOf2020-03-26.csv\n",
      "Soneri Bank Ltd_12_PdChart_AsOf2020-03-26.csv\n"
     ]
    }
   ],
   "source": [
    "comb_data = None\n",
    "\n",
    "for group_folder in os.listdir(data_path):\n",
    "    folder_path = data_path + group_folder + '/'\n",
    "    \n",
    "    if not os.path.isdir(folder_path):\n",
    "        continue\n",
    "    \n",
    "    for company_data in os.listdir(folder_path):\n",
    "        \n",
    "        if company_data[-4:] != '.csv':\n",
    "            continue\n",
    "        \n",
    "        print(company_data)\n",
    "        company_data_path = folder_path + company_data\n",
    "        \n",
    "        temp_data = pd.read_csv(company_data_path, index_col=0, parse_dates=True)\n",
    "        comb_data = pd.concat([comb_data, temp_data], axis=1)"
   ]
  },
  {
   "cell_type": "code",
   "execution_count": 24,
   "metadata": {},
   "outputs": [],
   "source": [
    "comb_data = comb_data.loc[begin_date:end_date,:]"
   ]
  },
  {
   "cell_type": "code",
   "execution_count": 25,
   "metadata": {},
   "outputs": [
    {
     "data": {
      "text/plain": [
       "(5564, 100)"
      ]
     },
     "execution_count": 25,
     "metadata": {},
     "output_type": "execute_result"
    }
   ],
   "source": [
    "comb_data.shape"
   ]
  },
  {
   "cell_type": "code",
   "execution_count": 26,
   "metadata": {},
   "outputs": [],
   "source": [
    "comb_data.to_csv('../irap_data.csv', index=True)"
   ]
  }
 ],
 "metadata": {
  "kernelspec": {
   "display_name": "Python 3",
   "language": "python",
   "name": "python3"
  },
  "language_info": {
   "codemirror_mode": {
    "name": "ipython",
    "version": 3
   },
   "file_extension": ".py",
   "mimetype": "text/x-python",
   "name": "python",
   "nbconvert_exporter": "python",
   "pygments_lexer": "ipython3",
   "version": "3.7.3"
  }
 },
 "nbformat": 4,
 "nbformat_minor": 2
}
